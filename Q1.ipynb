{
  "cells": [
    {
      "cell_type": "code",
      "execution_count": null,
      "metadata": {
        "cellView": "form",
        "id": "w6MmeBUBJ-9E"
      },
      "outputs": [],
      "source": [
        "# @title Setup\n",
        "from google.colab import auth\n",
        "from google.cloud import bigquery\n",
        "from google.colab import data_table\n",
        "\n",
        "project = 'fleet-joy-357516' # Project ID inserted based on the query results selected to explore\n",
        "location = 'US' # Location inserted based on the query results selected to explore\n",
        "client = bigquery.Client(project=project, location=location)\n",
        "data_table.enable_dataframe_formatter()\n",
        "auth.authenticate_user()"
      ]
    },
    {
      "cell_type": "markdown",
      "metadata": {
        "id": "pj42soltXW_H"
      },
      "source": [
        "## Reference SQL syntax from the original job\n",
        "Use the ```jobs.query```\n",
        "[method](https://cloud.google.com/bigquery/docs/reference/rest/v2/jobs/query) to\n",
        "return the SQL syntax from the job. This can be copied from the output cell\n",
        "below to edit the query now or in the future. Alternatively, you can use\n",
        "[this link](https://console.cloud.google.com/bigquery?j=fleet-joy-357516:US:bquxjob_43de41d9_1861b9718cb)\n",
        "back to BigQuery to edit the query within the BigQuery user interface."
      ]
    },
    {
      "cell_type": "code",
      "execution_count": null,
      "metadata": {
        "id": "KxSqPfAeXW_K",
        "colab": {
          "base_uri": "https://localhost:8080/"
        },
        "outputId": "226009db-62f3-47f4-d706-f9f65e5751f4"
      },
      "outputs": [
        {
          "output_type": "stream",
          "name": "stdout",
          "text": [
            "SELECT \r\n",
            "    FORMAT_DATE(\"%Y-%m\", enroll_date_v2) YearMonths, verticle, \r\n",
            "    COUNT(DISTINCT record_id) Unique_enrollment\r\n",
            "FROM \r\n",
            "(SELECT *,CAST(enroll_date as DATE) enroll_date_v2 FROM `fleet-joy-357516.10MS.enroll` )enrollments\r\n",
            "\r\n",
            "JOIN\r\n",
            "\r\n",
            "(#Courses Latest Details \r\n",
            "SELECT *\r\n",
            "FROM \r\n",
            "( SELECT *, CAST( launched_at as DATE) launched_at_v2 \r\n",
            " FROM  `fleet-joy-357516.10MS.courses` )Courses \r\n",
            "RIGHT JOIN \r\n",
            "(SELECT course_id, MAX(CAST( launched_at as DATE)) launched_at_v2\r\n",
            "FROM  `fleet-joy-357516.10MS.courses`\r\n",
            "GROUP BY 1)updated \r\n",
            "USING(course_id,launched_at_v2))CouseInfos \r\n",
            "\r\n",
            "USING(course_id)\r\n",
            "GROUP BY 1,2 \n"
          ]
        }
      ],
      "source": [
        "# Running this code will display the query used to generate your previous job\n",
        "\n",
        "job = client.get_job('bquxjob_43de41d9_1861b9718cb') # Job ID inserted based on the query results selected to explore\n",
        "print(job.query)"
      ]
    },
    {
      "cell_type": "markdown",
      "metadata": {
        "id": "eY-wNOGO11ON"
      },
      "source": [
        "# Result set loaded from BigQuery job as a DataFrame\n",
        "Query results are referenced from the Job ID ran from BigQuery and the query\n",
        "does not need to be re-run to explore results. The ```to_dataframe```\n",
        "[method](https://googleapis.dev/python/bigquery/latest/generated/google.cloud.bigquery.job.QueryJob.html#google.cloud.bigquery.job.QueryJob.to_dataframe)\n",
        "downloads the results to a Pandas DataFrame by using the BigQuery Storage API.\n",
        "\n",
        "To edit query syntax, you can do so from the BigQuery SQL editor or in the\n",
        "```Optional:``` sections below."
      ]
    },
    {
      "cell_type": "code",
      "execution_count": null,
      "metadata": {
        "id": "bIw82qhuHWy0",
        "colab": {
          "base_uri": "https://localhost:8080/",
          "height": 257
        },
        "outputId": "eb42cd59-4533-4dc9-edf5-2e6691b06380"
      },
      "outputs": [
        {
          "output_type": "execute_result",
          "data": {
            "text/plain": [
              "  YearMonths verticle  Unique_enrollment\n",
              "0    2021-10     Free              13140\n",
              "1    2021-10     Paid               4714\n",
              "2    2021-11     Free              52829\n",
              "3    2021-11     Paid              14337\n",
              "4    2021-12     Free              85059\n",
              "5    2021-12     Paid              16835\n",
              "6    2022-01     Free              27541\n",
              "7    2022-01     Paid               1486"
            ],
            "text/html": [
              "\n",
              "  <div id=\"df-ed369917-d03b-4b34-b351-231d65ecb088\">\n",
              "    <div class=\"colab-df-container\">\n",
              "      <div>\n",
              "<style scoped>\n",
              "    .dataframe tbody tr th:only-of-type {\n",
              "        vertical-align: middle;\n",
              "    }\n",
              "\n",
              "    .dataframe tbody tr th {\n",
              "        vertical-align: top;\n",
              "    }\n",
              "\n",
              "    .dataframe thead th {\n",
              "        text-align: right;\n",
              "    }\n",
              "</style>\n",
              "<table border=\"1\" class=\"dataframe\">\n",
              "  <thead>\n",
              "    <tr style=\"text-align: right;\">\n",
              "      <th></th>\n",
              "      <th>YearMonths</th>\n",
              "      <th>verticle</th>\n",
              "      <th>Unique_enrollment</th>\n",
              "    </tr>\n",
              "  </thead>\n",
              "  <tbody>\n",
              "    <tr>\n",
              "      <th>0</th>\n",
              "      <td>2021-10</td>\n",
              "      <td>Free</td>\n",
              "      <td>13140</td>\n",
              "    </tr>\n",
              "    <tr>\n",
              "      <th>1</th>\n",
              "      <td>2021-10</td>\n",
              "      <td>Paid</td>\n",
              "      <td>4714</td>\n",
              "    </tr>\n",
              "    <tr>\n",
              "      <th>2</th>\n",
              "      <td>2021-11</td>\n",
              "      <td>Free</td>\n",
              "      <td>52829</td>\n",
              "    </tr>\n",
              "    <tr>\n",
              "      <th>3</th>\n",
              "      <td>2021-11</td>\n",
              "      <td>Paid</td>\n",
              "      <td>14337</td>\n",
              "    </tr>\n",
              "    <tr>\n",
              "      <th>4</th>\n",
              "      <td>2021-12</td>\n",
              "      <td>Free</td>\n",
              "      <td>85059</td>\n",
              "    </tr>\n",
              "    <tr>\n",
              "      <th>5</th>\n",
              "      <td>2021-12</td>\n",
              "      <td>Paid</td>\n",
              "      <td>16835</td>\n",
              "    </tr>\n",
              "    <tr>\n",
              "      <th>6</th>\n",
              "      <td>2022-01</td>\n",
              "      <td>Free</td>\n",
              "      <td>27541</td>\n",
              "    </tr>\n",
              "    <tr>\n",
              "      <th>7</th>\n",
              "      <td>2022-01</td>\n",
              "      <td>Paid</td>\n",
              "      <td>1486</td>\n",
              "    </tr>\n",
              "  </tbody>\n",
              "</table>\n",
              "</div>\n",
              "      <button class=\"colab-df-convert\" onclick=\"convertToInteractive('df-ed369917-d03b-4b34-b351-231d65ecb088')\"\n",
              "              title=\"Convert this dataframe to an interactive table.\"\n",
              "              style=\"display:none;\">\n",
              "        \n",
              "  <svg xmlns=\"http://www.w3.org/2000/svg\" height=\"24px\"viewBox=\"0 0 24 24\"\n",
              "       width=\"24px\">\n",
              "    <path d=\"M0 0h24v24H0V0z\" fill=\"none\"/>\n",
              "    <path d=\"M18.56 5.44l.94 2.06.94-2.06 2.06-.94-2.06-.94-.94-2.06-.94 2.06-2.06.94zm-11 1L8.5 8.5l.94-2.06 2.06-.94-2.06-.94L8.5 2.5l-.94 2.06-2.06.94zm10 10l.94 2.06.94-2.06 2.06-.94-2.06-.94-.94-2.06-.94 2.06-2.06.94z\"/><path d=\"M17.41 7.96l-1.37-1.37c-.4-.4-.92-.59-1.43-.59-.52 0-1.04.2-1.43.59L10.3 9.45l-7.72 7.72c-.78.78-.78 2.05 0 2.83L4 21.41c.39.39.9.59 1.41.59.51 0 1.02-.2 1.41-.59l7.78-7.78 2.81-2.81c.8-.78.8-2.07 0-2.86zM5.41 20L4 18.59l7.72-7.72 1.47 1.35L5.41 20z\"/>\n",
              "  </svg>\n",
              "      </button>\n",
              "      \n",
              "  <style>\n",
              "    .colab-df-container {\n",
              "      display:flex;\n",
              "      flex-wrap:wrap;\n",
              "      gap: 12px;\n",
              "    }\n",
              "\n",
              "    .colab-df-convert {\n",
              "      background-color: #E8F0FE;\n",
              "      border: none;\n",
              "      border-radius: 50%;\n",
              "      cursor: pointer;\n",
              "      display: none;\n",
              "      fill: #1967D2;\n",
              "      height: 32px;\n",
              "      padding: 0 0 0 0;\n",
              "      width: 32px;\n",
              "    }\n",
              "\n",
              "    .colab-df-convert:hover {\n",
              "      background-color: #E2EBFA;\n",
              "      box-shadow: 0px 1px 2px rgba(60, 64, 67, 0.3), 0px 1px 3px 1px rgba(60, 64, 67, 0.15);\n",
              "      fill: #174EA6;\n",
              "    }\n",
              "\n",
              "    [theme=dark] .colab-df-convert {\n",
              "      background-color: #3B4455;\n",
              "      fill: #D2E3FC;\n",
              "    }\n",
              "\n",
              "    [theme=dark] .colab-df-convert:hover {\n",
              "      background-color: #434B5C;\n",
              "      box-shadow: 0px 1px 3px 1px rgba(0, 0, 0, 0.15);\n",
              "      filter: drop-shadow(0px 1px 2px rgba(0, 0, 0, 0.3));\n",
              "      fill: #FFFFFF;\n",
              "    }\n",
              "  </style>\n",
              "\n",
              "      <script>\n",
              "        const buttonEl =\n",
              "          document.querySelector('#df-ed369917-d03b-4b34-b351-231d65ecb088 button.colab-df-convert');\n",
              "        buttonEl.style.display =\n",
              "          google.colab.kernel.accessAllowed ? 'block' : 'none';\n",
              "\n",
              "        async function convertToInteractive(key) {\n",
              "          const element = document.querySelector('#df-ed369917-d03b-4b34-b351-231d65ecb088');\n",
              "          const dataTable =\n",
              "            await google.colab.kernel.invokeFunction('convertToInteractive',\n",
              "                                                     [key], {});\n",
              "          if (!dataTable) return;\n",
              "\n",
              "          const docLinkHtml = 'Like what you see? Visit the ' +\n",
              "            '<a target=\"_blank\" href=https://colab.research.google.com/notebooks/data_table.ipynb>data table notebook</a>'\n",
              "            + ' to learn more about interactive tables.';\n",
              "          element.innerHTML = '';\n",
              "          dataTable['output_type'] = 'display_data';\n",
              "          await google.colab.output.renderOutput(dataTable, element);\n",
              "          const docLink = document.createElement('div');\n",
              "          docLink.innerHTML = docLinkHtml;\n",
              "          element.appendChild(docLink);\n",
              "        }\n",
              "      </script>\n",
              "    </div>\n",
              "  </div>\n",
              "  "
            ],
            "application/vnd.google.colaboratory.module+javascript": "\n      import \"https://ssl.gstatic.com/colaboratory/data_table/fb998edc550c7947/data_table.js\";\n\n      window.createDataTable({\n        data: [[{\n            'v': 0,\n            'f': \"0\",\n        },\n\"2021-10\",\n\"Free\",\n{\n            'v': 13140,\n            'f': \"13140\",\n        }],\n [{\n            'v': 1,\n            'f': \"1\",\n        },\n\"2021-10\",\n\"Paid\",\n{\n            'v': 4714,\n            'f': \"4714\",\n        }],\n [{\n            'v': 2,\n            'f': \"2\",\n        },\n\"2021-11\",\n\"Free\",\n{\n            'v': 52829,\n            'f': \"52829\",\n        }],\n [{\n            'v': 3,\n            'f': \"3\",\n        },\n\"2021-11\",\n\"Paid\",\n{\n            'v': 14337,\n            'f': \"14337\",\n        }],\n [{\n            'v': 4,\n            'f': \"4\",\n        },\n\"2021-12\",\n\"Free\",\n{\n            'v': 85059,\n            'f': \"85059\",\n        }],\n [{\n            'v': 5,\n            'f': \"5\",\n        },\n\"2021-12\",\n\"Paid\",\n{\n            'v': 16835,\n            'f': \"16835\",\n        }],\n [{\n            'v': 6,\n            'f': \"6\",\n        },\n\"2022-01\",\n\"Free\",\n{\n            'v': 27541,\n            'f': \"27541\",\n        }],\n [{\n            'v': 7,\n            'f': \"7\",\n        },\n\"2022-01\",\n\"Paid\",\n{\n            'v': 1486,\n            'f': \"1486\",\n        }]],\n        columns: [[\"number\", \"index\"], [\"string\", \"YearMonths\"], [\"string\", \"verticle\"], [\"number\", \"Unique_enrollment\"]],\n        columnOptions: [{\"width\": \"1px\", \"className\": \"index_column\"}],\n        rowsPerPage: 25,\n        helpUrl: \"https://colab.research.google.com/notebooks/data_table.ipynb\",\n        suppressOutputScrolling: true,\n        minimumWidth: undefined,\n      });\n    "
          },
          "metadata": {},
          "execution_count": 11
        }
      ],
      "source": [
        "# Running this code will read results from your previous job\n",
        "\n",
        "job = client.get_job('bquxjob_43de41d9_1861b9718cb') # Job ID inserted based on the query results selected to explore\n",
        "results = job.to_dataframe()\n",
        "results"
      ]
    },
    {
      "cell_type": "markdown",
      "metadata": {
        "id": "84Ub57pbB6EN"
      },
      "source": [
        "## Show descriptive statistics using describe()\n",
        "Use the ```pandas DataFrame.describe()```\n",
        "[method](https://pandas.pydata.org/docs/reference/api/pandas.DataFrame.describe.html)\n",
        "to generate descriptive statistics. Descriptive statistics include those that\n",
        "summarize the central tendency, dispersion and shape of a dataset’s\n",
        "distribution, excluding ```NaN``` values. You may also use other Python methods\n",
        "to interact with your data."
      ]
    },
    {
      "cell_type": "code",
      "execution_count": null,
      "metadata": {
        "id": "fsAsHoWDZMpv",
        "colab": {
          "base_uri": "https://localhost:8080/",
          "height": 327
        },
        "outputId": "23322a7d-6654-4c96-e09d-d3309e81dc58"
      },
      "outputs": [
        {
          "output_type": "display_data",
          "data": {
            "text/plain": [
              "<Figure size 432x288 with 1 Axes>"
            ],
            "image/png": "[encoded data removed]"
          },
          "metadata": {
            "needs_background": "light"
          }
        }
      ],
      "source": [
        "import pandas as pd\n",
        "import matplotlib.pyplot as plt\n",
        "\n",
        "\n",
        "# Plot a bar chart using the DataFrame\n",
        "results.pivot(index='YearMonths', columns=  'verticle' , values= 'Unique_enrollment').plot(kind='bar')\n",
        "\n",
        "# Add labels and title to the chart\n",
        "plt.xlabel(\"YearMonths\")\n",
        "plt.ylabel(\"Unique Enrollments\")\n",
        "plt.title(\"MonM Unique Enrollments\")\n",
        "\n",
        "# Show the plot\n",
        "plt.show()\n"
      ]
    }
  ],
  "metadata": {
    "colab": {
      "cell_execution_strategy": "setup",
      "name": "BigQuery bquxjob_43de41d9_1861b9718cb",
      "provenance": []
    },
    "kernelspec": {
      "display_name": "Python 3",
      "name": "python3"
    },
    "language_info": {
      "name": "python"
    }
  },
  "nbformat": 4,
  "nbformat_minor": 0
}